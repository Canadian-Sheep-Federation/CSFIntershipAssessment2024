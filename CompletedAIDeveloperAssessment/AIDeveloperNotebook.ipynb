{
 "cells": [
  {
   "cell_type": "code",
   "execution_count": null,
   "id": "f1bd377d-9bdf-4265-9926-039a68125e28",
   "metadata": {},
   "outputs": [],
   "source": [
    "# Importing Relevant Libraries\n",
    "import cv2\n",
    "import numpy as np\n",
    "import tensorflow as tf\n",
    "from tensorflow.keras.models import load_model\n",
    "import time"
   ]
  },
  {
   "cell_type": "code",
   "execution_count": null,
   "id": "a57b0b7f-7287-4b90-be7e-02a974eaa8c6",
   "metadata": {},
   "outputs": [],
   "source": [
    "# Load the pre-trained model\n",
    "model = load_model('carrot_dummy_model.h5')\n",
    "\n",
    "# Print model summary to verify\n",
    "model.summary()"
   ]
  },
  {
   "cell_type": "code",
   "execution_count": null,
   "id": "66eb812b-2dd7-406f-b0d5-533f60d47973",
   "metadata": {},
   "outputs": [],
   "source": [
    "def preprocess_frame(frame):\n",
    "    #Preprocess the frame to fit the model's input requirements\n",
    "    # Resize the frame to the size expected by the model\n",
    "    frame_resized = cv2.resize(frame, (512, 512))\n",
    "    # Normalize the pixel values to be between 0 and 1\n",
    "    frame_normalized = frame_resized / 255.0\n",
    "    # Expand dimensions to match model input shape (1, 512, 512, 3)\n",
    "    frame_expanded = np.expand_dims(frame_normalized, axis=0)\n",
    "    return frame_expanded\n",
    "\n",
    "def classify_frame(model, frame):\n",
    "    #Classify the frame and return the prediction\n",
    "    processed_frame = preprocess_frame(frame)\n",
    "    prediction = model.predict(processed_frame)\n",
    "    return prediction"
   ]
  },
  {
   "cell_type": "code",
   "execution_count": null,
   "id": "64b5cd31-d98e-405f-bc24-a1b0e1fb972f",
   "metadata": {},
   "outputs": [],
   "source": [
    "# Initialize video capture (0 for webcam, or provide a video file path)\n",
    "video_capture = cv2.VideoCapture(0)\n",
    "\n",
    "# Check if the video capture is opened\n",
    "if not video_capture.isOpened():\n",
    "    print(\"Error: Could not open video stream.\")\n",
    "else:\n",
    "    print(\"Video stream opened successfully.\")\n",
    "\n",
    "# Set up variables to keep track of detected carrots\n",
    "carrot_count = 0\n",
    "recorded_frames = []\n",
    "\n",
    "# Define threshold for carrot detection (example threshold is used)\n",
    "carrot_threshold = 0.5"
   ]
  },
  {
   "cell_type": "code",
   "execution_count": null,
   "id": "82111e11-d795-46df-bccd-512a1c1e5221",
   "metadata": {},
   "outputs": [],
   "source": [
    "while True:\n",
    "    # Capture frame-by-frame\n",
    "    ret, frame = video_capture.read()\n",
    "    \n",
    "    if not ret:\n",
    "        print(\"Failed to grab frame.\")\n",
    "        break\n",
    "\n",
    "    # Classify the frame\n",
    "    prediction = classify_frame(model, frame)\n",
    "    \n",
    "    # Assuming the model outputs a single value indicating carrot likelihood\n",
    "    if prediction[0][0] > carrot_threshold:\n",
    "        carrot_count += 1\n",
    "        recorded_frames.append(frame)\n",
    "        label = \"Carrot: {:.2f}%\".format(prediction[0][0] * 100)\n",
    "    else:\n",
    "        label = \"Not Carrot: {:.2f}%\".format((1 - prediction[0][0]) * 100)\n",
    "\n",
    "    # Display the label on the frame\n",
    "    cv2.putText(frame, label, (10, 30), cv2.FONT_HERSHEY_SIMPLEX, 1, (0, 255, 0), 2)\n",
    "\n",
    "    # Display the resulting frame\n",
    "    cv2.imshow('Video', frame)\n",
    "    \n",
    "    # Break the loop on 'q' key press\n",
    "    if cv2.waitKey(1) & 0xFF == ord('q'):\n",
    "        break\n",
    "\n",
    "# Release the capture when done\n",
    "video_capture.release()\n",
    "cv2.destroyAllWindows()\n",
    "\n",
    "print(f\"Total carrots detected: {carrot_count}\")"
   ]
  },
  {
   "cell_type": "code",
   "execution_count": null,
   "id": "b05de22b-960a-423a-88e3-871c64c11e46",
   "metadata": {},
   "outputs": [],
   "source": [
    "# Save recorded frames to drive\n",
    "for i, frame in enumerate(recorded_frames):\n",
    "    filename = f\"carrot_frame_{i}.jpg\"\n",
    "    cv2.imwrite(filename, frame)\n",
    "\n",
    "print(\"Frames have been saved.\")"
   ]
  }
 ],
 "metadata": {
  "kernelspec": {
   "display_name": "Python 3 (ipykernel)",
   "language": "python",
   "name": "python3"
  },
  "language_info": {
   "codemirror_mode": {
    "name": "ipython",
    "version": 3
   },
   "file_extension": ".py",
   "mimetype": "text/x-python",
   "name": "python",
   "nbconvert_exporter": "python",
   "pygments_lexer": "ipython3",
   "version": "3.12.3"
  }
 },
 "nbformat": 4,
 "nbformat_minor": 5
}
