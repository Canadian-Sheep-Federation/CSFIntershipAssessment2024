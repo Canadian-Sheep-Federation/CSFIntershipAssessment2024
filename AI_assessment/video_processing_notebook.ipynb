{
 "cells": [
  {
   "cell_type": "markdown",
   "metadata": {},
   "source": [
    "# Carrot Detection in Video\n",
    "This notebook demonstrates how to use a trained model to detect carrots in a live video stream."
   ]
  },
  {
   "cell_type": "code",
   "execution_count": 1,
   "metadata": {},
   "outputs": [],
   "source": [
    "import cv2\n",
    "import torch\n",
    "from carrot_detection import load_model, predict"
   ]
  },
  {
   "cell_type": "code",
   "execution_count": 2,
   "metadata": {},
   "outputs": [],
   "source": [
    "# Load the trained model\n",
    "model = load_model('carrot_classifier.pth')"
   ]
  },
  {
   "cell_type": "code",
   "execution_count": 5,
   "metadata": {},
   "outputs": [],
   "source": [
    "# Capture video from the camera (currently set to the current computer's default camera)\n",
    "cap = cv2.VideoCapture(0)\n",
    "\n",
    "# Define your threshold for detection (how accurately does )\n",
    "threshold = 0.90  \n",
    "\n",
    "carrot_count = 0\n",
    "\n",
    "while True:\n",
    "    ret, frame = cap.read()\n",
    "    if not ret:\n",
    "        break\n",
    "\n",
    "    # Predict whether the frame contains carrots\n",
    "    prediction = predict(frame, model)\n",
    "    \n",
    "    # If the prediction passes our set threshold, increment the carrot count\n",
    "    if prediction > threshold:\n",
    "        carrot_count += 1\n",
    "    \n",
    "    # Display the frame\n",
    "    cv2.imshow('Video', frame)\n",
    "    \n",
    "    # End video stream by hitting \"q\"\n",
    "    if cv2.waitKey(1) & 0xFF == ord('q'):\n",
    "        break\n",
    "\n",
    "cap.release()\n",
    "cv2.destroyAllWindows()\n",
    "\n"
   ]
  },
  {
   "cell_type": "code",
   "execution_count": 6,
   "metadata": {},
   "outputs": [
    {
     "name": "stdout",
     "output_type": "stream",
     "text": [
      "Number of carrots detected: 0\n"
     ]
    }
   ],
   "source": [
    "# Show our final carrot count\n",
    "print(f\"Number of carrots detected: {carrot_count}\")"
   ]
  }
 ],
 "metadata": {
  "kernelspec": {
   "display_name": "Python 3",
   "language": "python",
   "name": "python3"
  },
  "language_info": {
   "codemirror_mode": {
    "name": "ipython",
    "version": 3
   },
   "file_extension": ".py",
   "mimetype": "text/x-python",
   "name": "python",
   "nbconvert_exporter": "python",
   "pygments_lexer": "ipython3",
   "version": "3.8.10"
  }
 },
 "nbformat": 4,
 "nbformat_minor": 2
}
