{
  "nbformat": 4,
  "nbformat_minor": 0,
  "metadata": {
    "colab": {
      "name": "Pytorch MNIST.ipynb",
      "provenance": [],
      "include_colab_link": true
    },
    "kernelspec": {
      "name": "python3",
      "display_name": "Python 3"
    },
    "accelerator": "GPU"
  },
  "cells": [
    {
      "cell_type": "markdown",
      "metadata": {
        "id": "view-in-github",
        "colab_type": "text"
      },
      "source": [
        "<a href=\"https://colab.research.google.com/github/SamytechInc/CSFIntershipAssessment2024/blob/main/Pytorch_MNIST.ipynb\" target=\"_parent\"><img src=\"https://colab.research.google.com/assets/colab-badge.svg\" alt=\"Open In Colab\"/></a>"
      ]
    },
    {
      "metadata": {
        "id": "PtKvmZx-WmUu"
      },
      "cell_type": "code",
      "source": [
        "#@title Installing the necessary libraries\n",
        "\n",
        "!pip install torch\n",
        "!pip install torchvision"
      ],
      "execution_count": null,
      "outputs": []
    },
    {
      "metadata": {
        "id": "bGU6NwlsXFSt"
      },
      "cell_type": "code",
      "source": [
        "#@title Import Dependencies\n",
        "\n",
        "import torch\n",
        "import torch.nn as nn\n",
        "import torchvision.datasets as dsets\n",
        "import torchvision.transforms as transforms\n",
        "from torch.autograd import Variable"
      ],
      "execution_count": 1,
      "outputs": []
    },
    {
      "metadata": {
        "id": "_bNfVLRUYqZA"
      },
      "cell_type": "code",
      "source": [
        "#@title Hyperparameters\n",
        "\n",
        "input_size = 784 # The image size is 28x28, or 784 pixels\n",
        "hidden_size = 500 # the number of nodes at hidden layer\n",
        "num_classes = 10 # number of output classes [0,9]\n",
        "num_epochs = 20 # number of times the entire dataset is passed throughout the model\n",
        "batch_size = 100 # the size of input data took for one iteration\n",
        "lr = 1e-3 # the size of a step"
      ],
      "execution_count": 2,
      "outputs": []
    },
    {
      "metadata": {
        "id": "lCsBCXMwbpH5",
        "colab": {
          "base_uri": "https://localhost:8080/"
        },
        "outputId": "3bfe5a22-d2ca-435e-d1a8-ef7004fff38a"
      },
      "cell_type": "code",
      "source": [
        "#@title Downloading the MNIST dataset\n",
        "\n",
        "train_data = dsets.MNIST(root = './data', train = True,\n",
        "                        transform = transforms.ToTensor(), download = True)\n",
        "\n",
        "test_data = dsets.MNIST(root = './data', train = False,\n",
        "                       transform = transforms.ToTensor())"
      ],
      "execution_count": 3,
      "outputs": [
        {
          "output_type": "stream",
          "name": "stdout",
          "text": [
            "Downloading http://yann.lecun.com/exdb/mnist/train-images-idx3-ubyte.gz\n",
            "Failed to download (trying next):\n",
            "HTTP Error 403: Forbidden\n",
            "\n",
            "Downloading https://ossci-datasets.s3.amazonaws.com/mnist/train-images-idx3-ubyte.gz\n",
            "Downloading https://ossci-datasets.s3.amazonaws.com/mnist/train-images-idx3-ubyte.gz to ./data/MNIST/raw/train-images-idx3-ubyte.gz\n"
          ]
        },
        {
          "output_type": "stream",
          "name": "stderr",
          "text": [
            "100%|██████████| 9912422/9912422 [00:02<00:00, 3985237.88it/s]\n"
          ]
        },
        {
          "output_type": "stream",
          "name": "stdout",
          "text": [
            "Extracting ./data/MNIST/raw/train-images-idx3-ubyte.gz to ./data/MNIST/raw\n",
            "\n",
            "Downloading http://yann.lecun.com/exdb/mnist/train-labels-idx1-ubyte.gz\n",
            "Failed to download (trying next):\n",
            "HTTP Error 403: Forbidden\n",
            "\n",
            "Downloading https://ossci-datasets.s3.amazonaws.com/mnist/train-labels-idx1-ubyte.gz\n",
            "Downloading https://ossci-datasets.s3.amazonaws.com/mnist/train-labels-idx1-ubyte.gz to ./data/MNIST/raw/train-labels-idx1-ubyte.gz\n"
          ]
        },
        {
          "output_type": "stream",
          "name": "stderr",
          "text": [
            "100%|██████████| 28881/28881 [00:00<00:00, 134203.94it/s]\n"
          ]
        },
        {
          "output_type": "stream",
          "name": "stdout",
          "text": [
            "Extracting ./data/MNIST/raw/train-labels-idx1-ubyte.gz to ./data/MNIST/raw\n",
            "\n",
            "Downloading http://yann.lecun.com/exdb/mnist/t10k-images-idx3-ubyte.gz\n",
            "Failed to download (trying next):\n",
            "HTTP Error 403: Forbidden\n",
            "\n",
            "Downloading https://ossci-datasets.s3.amazonaws.com/mnist/t10k-images-idx3-ubyte.gz\n",
            "Downloading https://ossci-datasets.s3.amazonaws.com/mnist/t10k-images-idx3-ubyte.gz to ./data/MNIST/raw/t10k-images-idx3-ubyte.gz\n"
          ]
        },
        {
          "output_type": "stream",
          "name": "stderr",
          "text": [
            "100%|██████████| 1648877/1648877 [00:01<00:00, 847904.38it/s] \n"
          ]
        },
        {
          "output_type": "stream",
          "name": "stdout",
          "text": [
            "Extracting ./data/MNIST/raw/t10k-images-idx3-ubyte.gz to ./data/MNIST/raw\n",
            "\n",
            "Downloading http://yann.lecun.com/exdb/mnist/t10k-labels-idx1-ubyte.gz\n",
            "Failed to download (trying next):\n",
            "HTTP Error 403: Forbidden\n",
            "\n",
            "Downloading https://ossci-datasets.s3.amazonaws.com/mnist/t10k-labels-idx1-ubyte.gz\n",
            "Downloading https://ossci-datasets.s3.amazonaws.com/mnist/t10k-labels-idx1-ubyte.gz to ./data/MNIST/raw/t10k-labels-idx1-ubyte.gz\n"
          ]
        },
        {
          "output_type": "stream",
          "name": "stderr",
          "text": [
            "100%|██████████| 4542/4542 [00:00<00:00, 4392559.09it/s]"
          ]
        },
        {
          "output_type": "stream",
          "name": "stdout",
          "text": [
            "Extracting ./data/MNIST/raw/t10k-labels-idx1-ubyte.gz to ./data/MNIST/raw\n",
            "\n"
          ]
        },
        {
          "output_type": "stream",
          "name": "stderr",
          "text": [
            "\n"
          ]
        }
      ]
    },
    {
      "metadata": {
        "id": "rfDPBdnYgfGp"
      },
      "cell_type": "code",
      "source": [
        "#@title Loading the data\n",
        "\n",
        "train_gen = torch.utils.data.DataLoader(dataset = train_data,\n",
        "                                             batch_size = batch_size,\n",
        "                                             shuffle = True)\n",
        "\n",
        "test_gen = torch.utils.data.DataLoader(dataset = test_data,\n",
        "                                      batch_size = batch_size,\n",
        "                                      shuffle = False)"
      ],
      "execution_count": 4,
      "outputs": []
    },
    {
      "metadata": {
        "id": "fL-YXTvghaz_"
      },
      "cell_type": "code",
      "source": [
        "#@title Defining the model class\n",
        "\n",
        "class Net(nn.Module):\n",
        "  def __init__(self, input_size, hidden_size, num_classes):\n",
        "    super(Net,self).__init__()\n",
        "    self.fc1 = nn.Linear(input_size, hidden_size)\n",
        "    self.relu = nn.ReLU()\n",
        "    self.fc2 = nn.Linear(hidden_size, num_classes)\n",
        "\n",
        "  def forward(self,x):\n",
        "    out = self.fc1(x)\n",
        "    out = self.relu(out)\n",
        "    out = self.fc2(out)\n",
        "    return out"
      ],
      "execution_count": 5,
      "outputs": []
    },
    {
      "metadata": {
        "id": "-3EPEqbjjfAT"
      },
      "cell_type": "code",
      "source": [
        "#@title Build the model\n",
        "\n",
        "net = Net(input_size, hidden_size, num_classes)\n",
        "if torch.cuda.is_available():\n",
        "  net.cuda()"
      ],
      "execution_count": 6,
      "outputs": []
    },
    {
      "metadata": {
        "id": "ePLIwvAFj2zH"
      },
      "cell_type": "code",
      "source": [
        "#@title Define loss-function & optimizer\n",
        "\n",
        "loss_function = nn.CrossEntropyLoss()\n",
        "optimizer = torch.optim.Adam( net.parameters(), lr=lr)"
      ],
      "execution_count": 7,
      "outputs": []
    },
    {
      "metadata": {
        "id": "u75Xa5VckuTH",
        "colab": {
          "base_uri": "https://localhost:8080/"
        },
        "outputId": "9fabc2ec-b795-435f-a8c8-94d36e43107a"
      },
      "cell_type": "code",
      "source": [
        "#@title Training the model\n",
        "\n",
        "for epoch in range(num_epochs):\n",
        "  for i ,(images,labels) in enumerate(train_gen):\n",
        "    images = Variable(images.view(-1,28*28)).cuda()\n",
        "    labels = Variable(labels).cuda()\n",
        "\n",
        "    optimizer.zero_grad()\n",
        "    outputs = net(images)\n",
        "    loss = loss_function(outputs, labels)\n",
        "    loss.backward()\n",
        "    optimizer.step()\n",
        "\n",
        "    if (i+1) % 100 == 0:\n",
        "      print('Epoch [%d/%d], Step [%d/%d], Loss: %.4f'\n",
        "                 %(epoch+1, num_epochs, i+1, len(train_data)//batch_size, loss.data))"
      ],
      "execution_count": 10,
      "outputs": [
        {
          "output_type": "stream",
          "name": "stdout",
          "text": [
            "Epoch [1/20], Step [100/600], Loss: 0.1278\n",
            "Epoch [1/20], Step [200/600], Loss: 0.1207\n",
            "Epoch [1/20], Step [300/600], Loss: 0.0780\n",
            "Epoch [1/20], Step [400/600], Loss: 0.2130\n",
            "Epoch [1/20], Step [500/600], Loss: 0.1826\n",
            "Epoch [1/20], Step [600/600], Loss: 0.1258\n",
            "Epoch [2/20], Step [100/600], Loss: 0.1503\n",
            "Epoch [2/20], Step [200/600], Loss: 0.0561\n",
            "Epoch [2/20], Step [300/600], Loss: 0.0495\n",
            "Epoch [2/20], Step [400/600], Loss: 0.1107\n",
            "Epoch [2/20], Step [500/600], Loss: 0.0613\n",
            "Epoch [2/20], Step [600/600], Loss: 0.0711\n",
            "Epoch [3/20], Step [100/600], Loss: 0.0733\n",
            "Epoch [3/20], Step [200/600], Loss: 0.0424\n",
            "Epoch [3/20], Step [300/600], Loss: 0.0856\n",
            "Epoch [3/20], Step [400/600], Loss: 0.0853\n",
            "Epoch [3/20], Step [500/600], Loss: 0.0414\n",
            "Epoch [3/20], Step [600/600], Loss: 0.1160\n",
            "Epoch [4/20], Step [100/600], Loss: 0.0514\n",
            "Epoch [4/20], Step [200/600], Loss: 0.0395\n",
            "Epoch [4/20], Step [300/600], Loss: 0.0099\n",
            "Epoch [4/20], Step [400/600], Loss: 0.0394\n",
            "Epoch [4/20], Step [500/600], Loss: 0.0293\n",
            "Epoch [4/20], Step [600/600], Loss: 0.0144\n",
            "Epoch [5/20], Step [100/600], Loss: 0.0211\n",
            "Epoch [5/20], Step [200/600], Loss: 0.0368\n",
            "Epoch [5/20], Step [300/600], Loss: 0.0147\n",
            "Epoch [5/20], Step [400/600], Loss: 0.0128\n",
            "Epoch [5/20], Step [500/600], Loss: 0.0452\n",
            "Epoch [5/20], Step [600/600], Loss: 0.0130\n",
            "Epoch [6/20], Step [100/600], Loss: 0.0226\n",
            "Epoch [6/20], Step [200/600], Loss: 0.0750\n",
            "Epoch [6/20], Step [300/600], Loss: 0.0470\n",
            "Epoch [6/20], Step [400/600], Loss: 0.0255\n",
            "Epoch [6/20], Step [500/600], Loss: 0.0232\n",
            "Epoch [6/20], Step [600/600], Loss: 0.0382\n",
            "Epoch [7/20], Step [100/600], Loss: 0.0037\n",
            "Epoch [7/20], Step [200/600], Loss: 0.0176\n",
            "Epoch [7/20], Step [300/600], Loss: 0.0110\n",
            "Epoch [7/20], Step [400/600], Loss: 0.0164\n",
            "Epoch [7/20], Step [500/600], Loss: 0.0151\n",
            "Epoch [7/20], Step [600/600], Loss: 0.0186\n",
            "Epoch [8/20], Step [100/600], Loss: 0.0090\n",
            "Epoch [8/20], Step [200/600], Loss: 0.0067\n",
            "Epoch [8/20], Step [300/600], Loss: 0.0188\n",
            "Epoch [8/20], Step [400/600], Loss: 0.0032\n",
            "Epoch [8/20], Step [500/600], Loss: 0.0124\n",
            "Epoch [8/20], Step [600/600], Loss: 0.0740\n",
            "Epoch [9/20], Step [100/600], Loss: 0.0060\n",
            "Epoch [9/20], Step [200/600], Loss: 0.0196\n",
            "Epoch [9/20], Step [300/600], Loss: 0.0297\n",
            "Epoch [9/20], Step [400/600], Loss: 0.0046\n",
            "Epoch [9/20], Step [500/600], Loss: 0.0142\n",
            "Epoch [9/20], Step [600/600], Loss: 0.0022\n",
            "Epoch [10/20], Step [100/600], Loss: 0.0040\n",
            "Epoch [10/20], Step [200/600], Loss: 0.0063\n",
            "Epoch [10/20], Step [300/600], Loss: 0.0033\n",
            "Epoch [10/20], Step [400/600], Loss: 0.0012\n",
            "Epoch [10/20], Step [500/600], Loss: 0.0264\n",
            "Epoch [10/20], Step [600/600], Loss: 0.0144\n",
            "Epoch [11/20], Step [100/600], Loss: 0.0052\n",
            "Epoch [11/20], Step [200/600], Loss: 0.0162\n",
            "Epoch [11/20], Step [300/600], Loss: 0.0049\n",
            "Epoch [11/20], Step [400/600], Loss: 0.0019\n",
            "Epoch [11/20], Step [500/600], Loss: 0.0092\n",
            "Epoch [11/20], Step [600/600], Loss: 0.0156\n",
            "Epoch [12/20], Step [100/600], Loss: 0.0026\n",
            "Epoch [12/20], Step [200/600], Loss: 0.0043\n",
            "Epoch [12/20], Step [300/600], Loss: 0.0144\n",
            "Epoch [12/20], Step [400/600], Loss: 0.0011\n",
            "Epoch [12/20], Step [500/600], Loss: 0.0015\n",
            "Epoch [12/20], Step [600/600], Loss: 0.0049\n",
            "Epoch [13/20], Step [100/600], Loss: 0.0030\n",
            "Epoch [13/20], Step [200/600], Loss: 0.0034\n",
            "Epoch [13/20], Step [300/600], Loss: 0.0053\n",
            "Epoch [13/20], Step [400/600], Loss: 0.0024\n",
            "Epoch [13/20], Step [500/600], Loss: 0.0043\n",
            "Epoch [13/20], Step [600/600], Loss: 0.0030\n",
            "Epoch [14/20], Step [100/600], Loss: 0.0146\n",
            "Epoch [14/20], Step [200/600], Loss: 0.0025\n",
            "Epoch [14/20], Step [300/600], Loss: 0.0091\n",
            "Epoch [14/20], Step [400/600], Loss: 0.0088\n",
            "Epoch [14/20], Step [500/600], Loss: 0.0016\n",
            "Epoch [14/20], Step [600/600], Loss: 0.0003\n",
            "Epoch [15/20], Step [100/600], Loss: 0.0005\n",
            "Epoch [15/20], Step [200/600], Loss: 0.0009\n",
            "Epoch [15/20], Step [300/600], Loss: 0.0030\n",
            "Epoch [15/20], Step [400/600], Loss: 0.0034\n",
            "Epoch [15/20], Step [500/600], Loss: 0.0012\n",
            "Epoch [15/20], Step [600/600], Loss: 0.0019\n",
            "Epoch [16/20], Step [100/600], Loss: 0.0025\n",
            "Epoch [16/20], Step [200/600], Loss: 0.0010\n",
            "Epoch [16/20], Step [300/600], Loss: 0.0088\n",
            "Epoch [16/20], Step [400/600], Loss: 0.0002\n",
            "Epoch [16/20], Step [500/600], Loss: 0.0003\n",
            "Epoch [16/20], Step [600/600], Loss: 0.0024\n",
            "Epoch [17/20], Step [100/600], Loss: 0.0003\n",
            "Epoch [17/20], Step [200/600], Loss: 0.0032\n",
            "Epoch [17/20], Step [300/600], Loss: 0.0005\n",
            "Epoch [17/20], Step [400/600], Loss: 0.0000\n",
            "Epoch [17/20], Step [500/600], Loss: 0.0042\n",
            "Epoch [17/20], Step [600/600], Loss: 0.0001\n",
            "Epoch [18/20], Step [100/600], Loss: 0.0003\n",
            "Epoch [18/20], Step [200/600], Loss: 0.0002\n",
            "Epoch [18/20], Step [300/600], Loss: 0.0002\n",
            "Epoch [18/20], Step [400/600], Loss: 0.0002\n",
            "Epoch [18/20], Step [500/600], Loss: 0.0001\n",
            "Epoch [18/20], Step [600/600], Loss: 0.0003\n",
            "Epoch [19/20], Step [100/600], Loss: 0.0002\n",
            "Epoch [19/20], Step [200/600], Loss: 0.0002\n",
            "Epoch [19/20], Step [300/600], Loss: 0.0000\n",
            "Epoch [19/20], Step [400/600], Loss: 0.0003\n",
            "Epoch [19/20], Step [500/600], Loss: 0.0001\n",
            "Epoch [19/20], Step [600/600], Loss: 0.0003\n",
            "Epoch [20/20], Step [100/600], Loss: 0.0002\n",
            "Epoch [20/20], Step [200/600], Loss: 0.0002\n",
            "Epoch [20/20], Step [300/600], Loss: 0.0003\n",
            "Epoch [20/20], Step [400/600], Loss: 0.0001\n",
            "Epoch [20/20], Step [500/600], Loss: 0.0002\n",
            "Epoch [20/20], Step [600/600], Loss: 0.0001\n"
          ]
        }
      ]
    },
    {
      "metadata": {
        "id": "DTPvMW5jHB9X",
        "colab": {
          "base_uri": "https://localhost:8080/"
        },
        "outputId": "e427d3e5-4ff7-44c0-b939-8366f2ac0e1b"
      },
      "cell_type": "code",
      "source": [
        "#@title Evaluating the accuracy of the model\n",
        "\n",
        "correct = 0\n",
        "total = 0\n",
        "for images,labels in test_gen:\n",
        "  images = Variable(images.view(-1,28*28)).cuda()\n",
        "  labels = labels.cuda()\n",
        "\n",
        "  output = net(images)\n",
        "  _, predicted = torch.max(output,1)\n",
        "  correct += (predicted == labels).sum()\n",
        "  total += labels.size(0)\n",
        "\n",
        "print('Accuracy of the model: %.3f %%' %((100*correct)/(total+1)))"
      ],
      "execution_count": 13,
      "outputs": [
        {
          "output_type": "stream",
          "name": "stdout",
          "text": [
            "Accuracy of the model: 98.350 %\n"
          ]
        }
      ]
    }
  ]
}
